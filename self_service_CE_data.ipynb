{
 "cells": [
  {
   "cell_type": "code",
   "execution_count": 26,
   "metadata": {},
   "outputs": [],
   "source": [
    "import os\n",
    "import json\n",
    "import pandas as pd\n",
    "import requests\n",
    "from pyvent.datasets.transactions import ConsumerEdgeSnowflake\n",
    "from pyvent.tools import SaveTool\n",
    "from pyvent import ROOT_DIR\n",
    "from datetime import datetime, timedelta\n",
    "from pyvent.tools import SaveTool, snowflake_tools\n",
    "from dateutil.relativedelta import relativedelta\n"
   ]
  },
  {
   "cell_type": "code",
   "execution_count": 27,
   "metadata": {},
   "outputs": [],
   "source": [
    "#  List out brands for consumer edge and placer\n",
    "\n",
    "ce_brands = {'FIRST WATCH RESTAURANTS': 'First Watch',\n",
    "            'Cracker Barrel': 'Cracker Barrel',\n",
    "            \"Denny's\": \"Denny's\",\n",
    "            \"IHOP\": \"IHOP\",\n",
    "            \"Another Broken Egg\": \"Another Broken Egg Cafe\",\n",
    "            \"Golden Corral\": \"Golden Corral\",\n",
    "            \"Waffle House\": \"Waffle House\",\n",
    "            \"Bob Evans\": \"Bob Evans\",\n",
    "            \"Snooze\": \"Snooze\",\n",
    "            \"Applebee's\": \"Applebee's\",\n",
    "            \"Buffalo Wild Wings\": \"Buffalo Wild Wings\",\n",
    "            \"Cheesecake Factory\": \"Cheesecake Factory\",\n",
    "            \"CHILI'S GRILL & BAR\": \"Chili's\",\n",
    "            \"NINETY NINE RESTAURANTS\": \"Ninety Nine\",\n",
    "            \"Outback Steakhouse\": \"Outback Steakhouse\",\n",
    "            \"Olive Garden\": \"Olive Garden\",\n",
    "            \"Texas Roadhouse\": \"Texas Roadhouse\",\n",
    "            \"TGI Fridays\": \"TGI Friday's\",}\n",
    "\n",
    "placer_chains = {\n",
    "    \"First Watch\": \"chain:59b21236173f563be09ae9da\",\n",
    "    \"IHOP\": \"chain:58ad4d484c0da86d5dba923e\",\n",
    "    \"Denny's\": \"chain:59b0312d173f5685147810da\",\n",
    "    \"Cracker Barrel\": \"chain:59b1dbc8173f563bda9ae6b3\",\n",
    "    \"Another Broken Egg Cafe\": \"chain:5b87b8d473a79454429e0b6f\",\n",
    "    \"Golden Corral\": \"chain:59b1d759173f563be49ae6c7\",\n",
    "    \"Waffle House\": \"chain:58acf4ba4c0da86d9ffbc8a3\",\n",
    "    \"Bob Evans\": \"chain:59b1d3bc173f563be29ae611\",\n",
    "    \"Snooze\": \"chain:5b87b8d673a79454429e1282\",\n",
    "    \"Applebee's\": \"chain:59b1cb28173f563bcd9ae611\",\n",
    "    \"Buffalo Wild Wings\": \"chain:59b03be5173f568503781135\",\n",
    "    \"Cheesecake Factory\": \"chain:59b21220173f563bd29aea9e\",\n",
    "    \"Chili's\": \"chain:59b03f78173f5685007811da\",\n",
    "    \"Ninety Nine\": \"chain:59b23354173f563be49aeae4\",\n",
    "    \"Outback Steakhouse\": \"chain:59b1cd2f173f563bea9ae611\",\n",
    "    \"Olive Garden\": \"chain:59b1caa7173f563bd59ae611\",\n",
    "    \"Texas Roadhouse\": \"chain:59b1e314173f563be69ae6c4\",\n",
    "    \"TGI Friday's\": \"chain:59b1dae8173f563bdc9ae6c5\",\n",
    "    # \"Cava Grill\": \"chain:5b41cb6416af4c230fd5ff0e\",\n",
    "    # \"Chipotle\": \"chain:59b031ad173f56851e7810c2\",\n",
    "    # \"Five Guys\": \"chain:59b03b0b173f56850178112c\",\n",
    "    # \"Jersey Mike's\": \"chain:59b03b61173f5685167810f2\",\n",
    "    # \"Panera Bread\": \"chain:59b032f5173f56851c7810f8\",\n",
    "    # \"Shake Shack\": \"chain:5b431f3f1b5c0a67dd394ce8\",\n",
    "    # \"Wingstop\": \"chain:59b04783173f56851778120d\",\n",
    "    # \"Zaxby's\": \"chain:59b1cad2173f563bd19ae611\"\n",
    "}\n",
    "\n",
    "# map brands to categories, this shows up in the raw output, but I didn't include it in the html\n",
    "category = {\n",
    "    \"First Watch\": \"First Watch\",\n",
    "    \"IHOP\": \"Breakfast\",\n",
    "    \"Denny's\": \"Breakfast\",\n",
    "    \"Cracker Barrel\": \"Breakfast\",\n",
    "    \"Another Broken Egg Cafe\": \"Breakfast\",\n",
    "    \"Golden Corral\": \"Breakfast\",\n",
    "    \"Waffle House\": \"Breakfast\",\n",
    "    \"Bob Evans\": \"Breakfast\",\n",
    "    \"Snooze\": \"Breakfast\",\n",
    "    \"Applebee's\": \"Family Dining\",\n",
    "    \"Buffalo Wild Wings\": \"Family Dining\",\n",
    "    \"Cheesecake Factory\": \"Family Dining\",\n",
    "    \"Chili's\": \"Family Dining\",\n",
    "    \"Ninety Nine\": \"Family Dining\",\n",
    "    \"Outback Steakhouse\": \"Family Dining\",\n",
    "    \"Olive Garden\": \"Family Dining\",\n",
    "    \"Texas Roadhouse\": \"Family Dining\",\n",
    "    \"TGI Friday's\": \"Family Dining\",\n",
    "}\n",
    "\n",
    "income_mapping = {'Less than or equal to $20,000': '<$20k',\n",
    "                '$20,001-$40,000': '$20-40k',\n",
    "                '$40,001-$60,000': '$40-60k',\n",
    "                '$60,001-$80,000': '$60-80k',\n",
    "                '$80,001-$100,000': '$80-100k',\n",
    "                '$100,001-$150,000': '$100-150k',\n",
    "                '$150,001+': '$150k+'}\n",
    "\n",
    "merch_descs1 = {}\n",
    "# make all keys in brand1 uppercase\n",
    "ce_brands = {k.upper(): v for k, v in ce_brands.items()}\n",
    "\n",
    "brand_mappings = ce_brands.copy()\n",
    "merch_descs = merch_descs1.copy()\n",
    "chain_mappings = placer_chains.copy()\n",
    "category_mappings = category.copy()\n"
   ]
  },
  {
   "cell_type": "code",
   "execution_count": 28,
   "metadata": {},
   "outputs": [
    {
     "data": {
      "text/plain": [
       "\"'FIRST WATCH RESTAURANTS','CRACKER BARREL','DENNY''S','IHOP','ANOTHER BROKEN EGG','GOLDEN CORRAL','WAFFLE HOUSE','BOB EVANS','SNOOZE','APPLEBEE''S','BUFFALO WILD WINGS','CHEESECAKE FACTORY','CHILI''S GRILL & BAR','NINETY NINE RESTAURANTS','OUTBACK STEAKHOUSE','OLIVE GARDEN','TEXAS ROADHOUSE','TGI FRIDAYS'\""
      ]
     },
     "execution_count": 28,
     "metadata": {},
     "output_type": "execute_result"
    }
   ],
   "source": [
    "def _str_to_sql(s:str) -> str:\n",
    "    return s.replace(\"'\", r\"''\")\n",
    "\n",
    "# get brands from brand_mappings to include in query\n",
    "query_brands = \"'\" + \"','\".join(_str_to_sql(name) for name in brand_mappings.keys()) + \"'\"\n",
    "query_brands"
   ]
  },
  {
   "cell_type": "code",
   "execution_count": 29,
   "metadata": {},
   "outputs": [
    {
     "name": "stdout",
     "output_type": "stream",
     "text": [
      "Initiating login request with your identity provider. A browser window should have opened for you to complete the login. If you can't see it, check existing browser windows, or your OS settings. Press CTRL+C to abort and try again...\n",
      "Going to open: https://portal.sso.eu-west-1.amazonaws.com/saml/assertion/MDg0NjE4MDA2MjkyX2lucy0xMGU3NGJiODJjNTM3NDY4?SAMLRequest=lZNdc6IwGIX%2FCpO9BgKi1Yza0bJaOwUdxe66d1mINBoSmoSi%2FfUb%2FNhxL9qZvWPCOXlO3pP07w8Fs96JVFTwAfAcCCzCU5FRng%2FAOpnYXWApjXmGmeBkAI5EgfthX%2BGClWhU6Ve%2BJG8VUdoyG3GFmh8DUEmOBFZUIY4LopBO0WoUPSPfgQgrRaQ2OHCxZIoa1qvWJXLduq6duuUImbs%2BhNCFPdeoGsk3cIMov2aUUmiRCna1HMyZPkF4LgwahFEYwuJiHFN%2BHsFXlN9nkUKPSbKwF%2FNVAqzR9XQPgquqIHJF5DtNyXr5fA6gTIKt7Nx1Yc8hlV2b0dmeo7iotwzvSSqKstJmV8d8uVuSuUzk1MxqFg5AuafZW3tSB5u7mi6z8XF6aNXlSxjPcdRe5DE7TL3HnG%2F2ajP5Me6mwHq5Nus3zc6UqsiMN31qswT9wIZdG3YSL0DtDmr7Trvb%2BwWs0ISiHOuT8xq6FFJj5iglbnLjAn8Ijmt1its04%2F7t143CHMa770EUjvxotz%2F%2B9FmVHuEhmq5b8fSJzsOnXZxErTjcBOB8p9Apohz%2B76T67q37cj1j09gsXAhG06M1EbLA%2BvNCPcc7rdDM3p6kiBSYslGWSaKUKZYxUT9IgrV5BVpWBLjDM%2FXfdzD8Aw%3D%3D&RelayState=58637 to authenticate...\n"
     ]
    }
   ],
   "source": [
    "# connect to snowflake, this will open up a tab on browser\n",
    "conn = snowflake_tools.get_connection()"
   ]
  },
  {
   "cell_type": "code",
   "execution_count": 30,
   "metadata": {},
   "outputs": [
    {
     "data": {
      "text/plain": [
       "('2021-08-05', '2024-08-06')"
      ]
     },
     "execution_count": 30,
     "metadata": {},
     "output_type": "execute_result"
    }
   ],
   "source": [
    "end_date = datetime.now().strftime(\"%Y-%m-%d\")\n",
    "start_date = (datetime.now() - relativedelta(years=3) - timedelta(days=datetime.now().weekday())).strftime(\"%Y-%m-%d\")\n",
    "start_date, end_date"
   ]
  },
  {
   "cell_type": "code",
   "execution_count": 31,
   "metadata": {},
   "outputs": [],
   "source": [
    "def _str_to_sql(s:str) -> str:\n",
    "    return s.replace(\"'\", r\"''\")\n",
    "\n",
    "# get brands from brand_mappings to include in query\n",
    "query_brands = \"'\" + \"','\".join(_str_to_sql(name) for name in brand_mappings.keys()) + \"'\"\n",
    "\n",
    "current_freq = 'week'   \n",
    "# queries consumer edge on snowflake\n",
    "query = f\"\"\"\n",
    "    SELECT brand.brand_name, date_trunc('{current_freq}', trans.trans_date) as trunc_date, sum(trans.trans_amount) as total_revenue, avg(trans.trans_amount) as AOV, count(trans.transid) as num_orders,\n",
    "    demographic.income\n",
    "    FROM consumeredge.public.trans\n",
    "        LEFT JOIN consumeredge.public.mid_match using(merchid)\n",
    "        LEFT JOIN consumeredge.public.brand on mid_match.main_brand_id = brand.brand_id\n",
    "        LEFT JOIN consumeredge.public.demographic on demographic.cardid = trans.cardid\n",
    "        WHERE brand.brand_name in ({query_brands})\n",
    "        AND trans.trans_date >= '{start_date}'\n",
    "        GROUP BY brand.brand_name, trunc_date, demographic.income\n",
    "\n",
    "\"\"\"\n",
    "cur = conn.cursor()\n",
    "cur.execute(query)\n",
    "dfCE = pd.DataFrame(cur.fetchall())\n",
    "    \n",
    "dfCE[0] = dfCE[0].map(brand_mappings)"
   ]
  },
  {
   "cell_type": "code",
   "execution_count": 32,
   "metadata": {},
   "outputs": [],
   "source": [
    "query = f\"\"\"\n",
    "        select \n",
    "            card_count / \n",
    "            (\n",
    "            select \n",
    "                max(card_count)\n",
    "            from\n",
    "                pyvent.consumeredge.panel_size_month\n",
    "            ) as revn_adj\n",
    "            , date_trunc('week',trunc_date) as adj_date\n",
    "        from\n",
    "            pyvent.consumeredge.panel_size_month\n",
    "        where\n",
    "            adj_date >= '{start_date}'\n",
    "            and adj_date <= '{end_date}'\n",
    "        order by\n",
    "            adj_date asc\n",
    "            \n",
    "        \"\"\"\n",
    "cur = conn.cursor()\n",
    "cur.execute(query)\n",
    "df_adj = pd.DataFrame(cur.fetchall())"
   ]
  },
  {
   "cell_type": "code",
   "execution_count": 33,
   "metadata": {},
   "outputs": [],
   "source": [
    "# convert output datatypes\n",
    "df_adj[1] = df_adj[1].map(lambda x: x.strftime('%Y-%m-%d'))\n",
    "df_adj[0] = df_adj[0].astype(float)\n",
    "\n",
    "dfCE[1] = dfCE[1].map(lambda x: x.strftime('%Y-%m-%d'))"
   ]
  },
  {
   "cell_type": "code",
   "execution_count": 34,
   "metadata": {},
   "outputs": [],
   "source": [
    "# convert monthly adjustment factor to weekly by taking value from last update\n",
    "week_dates = pd.date_range(start=datetime.strptime(start_date, \"%Y-%m-%d\") - timedelta(days=7),end=datetime.now(),freq='w-mon')\n",
    "week_dates = pd.DataFrame(week_dates.strftime('%Y-%m-%d'),columns=[\"Date\"])\n",
    "\n",
    "rev_adj = week_dates.merge(df_adj, left_on='Date', right_on=1, how='left')\n",
    "rev_adj = rev_adj.fillna(method='ffill').fillna(method='bfill').drop(columns=1).rename(columns={0:'rev_adj'})\n",
    "\n",
    "# Scale total revenue and num_orders by adjustment factor\n",
    "dfCE = dfCE.merge(rev_adj, left_on=1, right_on='Date', how='left')\n",
    "\n",
    "dfCE[2] = dfCE[2] / dfCE['rev_adj']\n",
    "dfCE[4] = dfCE[4] / dfCE['rev_adj']\n"
   ]
  },
  {
   "cell_type": "code",
   "execution_count": 35,
   "metadata": {},
   "outputs": [],
   "source": [
    "# split into different dataframes\n",
    "dfTotalRev = dfCE.pivot_table(index=0, columns=1, values=2, aggfunc='sum', dropna=False)\n",
    "dfTotalRev.index.name = None\n",
    "dfAOV = dfCE.pivot_table(index=0, columns=1, values=3, aggfunc='sum', dropna=False)\n",
    "dfAOV.index.name = None\n",
    "dfNumOrders = dfCE.pivot_table(index=0, columns=1, values=4, aggfunc='sum', dropna=False)\n",
    "dfNumOrders.index.name = None"
   ]
  },
  {
   "cell_type": "code",
   "execution_count": 36,
   "metadata": {},
   "outputs": [],
   "source": [
    "dfOrderDemo = dfCE.copy()\n",
    "dfOrderDemo[0] = dfOrderDemo[0].map(category_mappings)\n",
    "dfOrderDemo[5] = dfOrderDemo[5].map(income_mapping)\n",
    "dfOrderDemo = dfOrderDemo.pivot_table(index=[0,5], columns=1, values=4, aggfunc='sum', dropna=False)\n",
    "dfOrderDemo.index.name = None"
   ]
  },
  {
   "cell_type": "code",
   "execution_count": 37,
   "metadata": {},
   "outputs": [
    {
     "name": "stdout",
     "output_type": "stream",
     "text": [
      "First Watch\n"
     ]
    },
    {
     "name": "stderr",
     "output_type": "stream",
     "text": [
      "C:\\Users\\ZWayne\\AppData\\Local\\Temp\\ipykernel_12564\\3727466310.py:25: FutureWarning: The frame.append method is deprecated and will be removed from pandas in a future version. Use pandas.concat instead.\n",
      "  df = df.append(pd.DataFrame(data['data'][0]))\n"
     ]
    },
    {
     "name": "stdout",
     "output_type": "stream",
     "text": [
      "IHOP\n"
     ]
    },
    {
     "name": "stderr",
     "output_type": "stream",
     "text": [
      "C:\\Users\\ZWayne\\AppData\\Local\\Temp\\ipykernel_12564\\3727466310.py:25: FutureWarning: The frame.append method is deprecated and will be removed from pandas in a future version. Use pandas.concat instead.\n",
      "  df = df.append(pd.DataFrame(data['data'][0]))\n"
     ]
    },
    {
     "name": "stdout",
     "output_type": "stream",
     "text": [
      "Denny's\n"
     ]
    },
    {
     "name": "stderr",
     "output_type": "stream",
     "text": [
      "C:\\Users\\ZWayne\\AppData\\Local\\Temp\\ipykernel_12564\\3727466310.py:25: FutureWarning: The frame.append method is deprecated and will be removed from pandas in a future version. Use pandas.concat instead.\n",
      "  df = df.append(pd.DataFrame(data['data'][0]))\n"
     ]
    },
    {
     "name": "stdout",
     "output_type": "stream",
     "text": [
      "Cracker Barrel\n"
     ]
    },
    {
     "name": "stderr",
     "output_type": "stream",
     "text": [
      "C:\\Users\\ZWayne\\AppData\\Local\\Temp\\ipykernel_12564\\3727466310.py:25: FutureWarning: The frame.append method is deprecated and will be removed from pandas in a future version. Use pandas.concat instead.\n",
      "  df = df.append(pd.DataFrame(data['data'][0]))\n"
     ]
    },
    {
     "name": "stdout",
     "output_type": "stream",
     "text": [
      "Another Broken Egg Cafe\n"
     ]
    },
    {
     "name": "stderr",
     "output_type": "stream",
     "text": [
      "C:\\Users\\ZWayne\\AppData\\Local\\Temp\\ipykernel_12564\\3727466310.py:25: FutureWarning: The frame.append method is deprecated and will be removed from pandas in a future version. Use pandas.concat instead.\n",
      "  df = df.append(pd.DataFrame(data['data'][0]))\n"
     ]
    },
    {
     "name": "stdout",
     "output_type": "stream",
     "text": [
      "Golden Corral\n"
     ]
    },
    {
     "name": "stderr",
     "output_type": "stream",
     "text": [
      "C:\\Users\\ZWayne\\AppData\\Local\\Temp\\ipykernel_12564\\3727466310.py:25: FutureWarning: The frame.append method is deprecated and will be removed from pandas in a future version. Use pandas.concat instead.\n",
      "  df = df.append(pd.DataFrame(data['data'][0]))\n"
     ]
    },
    {
     "name": "stdout",
     "output_type": "stream",
     "text": [
      "Waffle House\n"
     ]
    },
    {
     "name": "stderr",
     "output_type": "stream",
     "text": [
      "C:\\Users\\ZWayne\\AppData\\Local\\Temp\\ipykernel_12564\\3727466310.py:25: FutureWarning: The frame.append method is deprecated and will be removed from pandas in a future version. Use pandas.concat instead.\n",
      "  df = df.append(pd.DataFrame(data['data'][0]))\n"
     ]
    },
    {
     "name": "stdout",
     "output_type": "stream",
     "text": [
      "Bob Evans\n"
     ]
    },
    {
     "name": "stderr",
     "output_type": "stream",
     "text": [
      "C:\\Users\\ZWayne\\AppData\\Local\\Temp\\ipykernel_12564\\3727466310.py:25: FutureWarning: The frame.append method is deprecated and will be removed from pandas in a future version. Use pandas.concat instead.\n",
      "  df = df.append(pd.DataFrame(data['data'][0]))\n"
     ]
    },
    {
     "name": "stdout",
     "output_type": "stream",
     "text": [
      "Snooze\n"
     ]
    },
    {
     "name": "stderr",
     "output_type": "stream",
     "text": [
      "C:\\Users\\ZWayne\\AppData\\Local\\Temp\\ipykernel_12564\\3727466310.py:25: FutureWarning: The frame.append method is deprecated and will be removed from pandas in a future version. Use pandas.concat instead.\n",
      "  df = df.append(pd.DataFrame(data['data'][0]))\n"
     ]
    },
    {
     "name": "stdout",
     "output_type": "stream",
     "text": [
      "Applebee's\n"
     ]
    },
    {
     "name": "stderr",
     "output_type": "stream",
     "text": [
      "C:\\Users\\ZWayne\\AppData\\Local\\Temp\\ipykernel_12564\\3727466310.py:25: FutureWarning: The frame.append method is deprecated and will be removed from pandas in a future version. Use pandas.concat instead.\n",
      "  df = df.append(pd.DataFrame(data['data'][0]))\n"
     ]
    },
    {
     "name": "stdout",
     "output_type": "stream",
     "text": [
      "Buffalo Wild Wings\n"
     ]
    },
    {
     "name": "stderr",
     "output_type": "stream",
     "text": [
      "C:\\Users\\ZWayne\\AppData\\Local\\Temp\\ipykernel_12564\\3727466310.py:25: FutureWarning: The frame.append method is deprecated and will be removed from pandas in a future version. Use pandas.concat instead.\n",
      "  df = df.append(pd.DataFrame(data['data'][0]))\n"
     ]
    },
    {
     "name": "stdout",
     "output_type": "stream",
     "text": [
      "Cheesecake Factory\n"
     ]
    },
    {
     "name": "stderr",
     "output_type": "stream",
     "text": [
      "C:\\Users\\ZWayne\\AppData\\Local\\Temp\\ipykernel_12564\\3727466310.py:25: FutureWarning: The frame.append method is deprecated and will be removed from pandas in a future version. Use pandas.concat instead.\n",
      "  df = df.append(pd.DataFrame(data['data'][0]))\n"
     ]
    },
    {
     "name": "stdout",
     "output_type": "stream",
     "text": [
      "Chili's\n"
     ]
    },
    {
     "name": "stderr",
     "output_type": "stream",
     "text": [
      "C:\\Users\\ZWayne\\AppData\\Local\\Temp\\ipykernel_12564\\3727466310.py:25: FutureWarning: The frame.append method is deprecated and will be removed from pandas in a future version. Use pandas.concat instead.\n",
      "  df = df.append(pd.DataFrame(data['data'][0]))\n"
     ]
    },
    {
     "name": "stdout",
     "output_type": "stream",
     "text": [
      "Ninety Nine\n"
     ]
    },
    {
     "name": "stderr",
     "output_type": "stream",
     "text": [
      "C:\\Users\\ZWayne\\AppData\\Local\\Temp\\ipykernel_12564\\3727466310.py:25: FutureWarning: The frame.append method is deprecated and will be removed from pandas in a future version. Use pandas.concat instead.\n",
      "  df = df.append(pd.DataFrame(data['data'][0]))\n"
     ]
    },
    {
     "name": "stdout",
     "output_type": "stream",
     "text": [
      "Outback Steakhouse\n"
     ]
    },
    {
     "name": "stderr",
     "output_type": "stream",
     "text": [
      "C:\\Users\\ZWayne\\AppData\\Local\\Temp\\ipykernel_12564\\3727466310.py:25: FutureWarning: The frame.append method is deprecated and will be removed from pandas in a future version. Use pandas.concat instead.\n",
      "  df = df.append(pd.DataFrame(data['data'][0]))\n"
     ]
    },
    {
     "name": "stdout",
     "output_type": "stream",
     "text": [
      "Olive Garden\n"
     ]
    },
    {
     "name": "stderr",
     "output_type": "stream",
     "text": [
      "C:\\Users\\ZWayne\\AppData\\Local\\Temp\\ipykernel_12564\\3727466310.py:25: FutureWarning: The frame.append method is deprecated and will be removed from pandas in a future version. Use pandas.concat instead.\n",
      "  df = df.append(pd.DataFrame(data['data'][0]))\n"
     ]
    },
    {
     "name": "stdout",
     "output_type": "stream",
     "text": [
      "Texas Roadhouse\n"
     ]
    },
    {
     "name": "stderr",
     "output_type": "stream",
     "text": [
      "C:\\Users\\ZWayne\\AppData\\Local\\Temp\\ipykernel_12564\\3727466310.py:25: FutureWarning: The frame.append method is deprecated and will be removed from pandas in a future version. Use pandas.concat instead.\n",
      "  df = df.append(pd.DataFrame(data['data'][0]))\n"
     ]
    },
    {
     "name": "stdout",
     "output_type": "stream",
     "text": [
      "TGI Friday's\n"
     ]
    },
    {
     "name": "stderr",
     "output_type": "stream",
     "text": [
      "C:\\Users\\ZWayne\\AppData\\Local\\Temp\\ipykernel_12564\\3727466310.py:25: FutureWarning: The frame.append method is deprecated and will be removed from pandas in a future version. Use pandas.concat instead.\n",
      "  df = df.append(pd.DataFrame(data['data'][0]))\n"
     ]
    }
   ],
   "source": [
    "# query placer api\n",
    "url = \"https://papi.placer.ai/v1/reports/visit-trends\"\n",
    "\n",
    "\n",
    "headers = {\n",
    "    \"accept\": \"application/json\",\n",
    "    \"content-type\": \"application/json\",\n",
    "    \"x-api-key\": \"qsjb4zPcw42I17paw32A78utozd6a6J96Hc3cypT\"\n",
    "}\n",
    "\n",
    "# write code to get the data for each chain\n",
    "df = pd.DataFrame()\n",
    "for chain in chain_mappings:\n",
    "    print(chain)\n",
    "    payload = {\n",
    "            \"apiIds\": [chain_mappings[chain]],\n",
    "            \"startDate\": start_date,\n",
    "            \"endDate\": end_date,\n",
    "            \"granularity\": 'week',\n",
    "        }\n",
    "\n",
    "    response = requests.post(url, headers=headers, data=json.dumps(payload))\n",
    "    data = response.json()\n",
    "    # add to different sheets of the same excel file\n",
    "    df = df.append(pd.DataFrame(data['data'][0]))\n"
   ]
  },
  {
   "cell_type": "code",
   "execution_count": 38,
   "metadata": {},
   "outputs": [
    {
     "name": "stderr",
     "output_type": "stream",
     "text": [
      "C:\\Users\\ZWayne\\AppData\\Local\\Temp\\ipykernel_12564\\1345876020.py:14: PerformanceWarning: DataFrame is highly fragmented.  This is usually the result of calling `frame.insert` many times, which has poor performance.  Consider joining all columns at once using pd.concat(axis=1) instead. To get a de-fragmented frame, use `newframe = frame.copy()`\n",
      "  dfVisits.loc[:, col[1]] = dfPlacer[col]\n",
      "C:\\Users\\ZWayne\\AppData\\Local\\Temp\\ipykernel_12564\\1345876020.py:14: PerformanceWarning: DataFrame is highly fragmented.  This is usually the result of calling `frame.insert` many times, which has poor performance.  Consider joining all columns at once using pd.concat(axis=1) instead. To get a de-fragmented frame, use `newframe = frame.copy()`\n",
      "  dfVisits.loc[:, col[1]] = dfPlacer[col]\n",
      "C:\\Users\\ZWayne\\AppData\\Local\\Temp\\ipykernel_12564\\1345876020.py:14: PerformanceWarning: DataFrame is highly fragmented.  This is usually the result of calling `frame.insert` many times, which has poor performance.  Consider joining all columns at once using pd.concat(axis=1) instead. To get a de-fragmented frame, use `newframe = frame.copy()`\n",
      "  dfVisits.loc[:, col[1]] = dfPlacer[col]\n",
      "C:\\Users\\ZWayne\\AppData\\Local\\Temp\\ipykernel_12564\\1345876020.py:14: PerformanceWarning: DataFrame is highly fragmented.  This is usually the result of calling `frame.insert` many times, which has poor performance.  Consider joining all columns at once using pd.concat(axis=1) instead. To get a de-fragmented frame, use `newframe = frame.copy()`\n",
      "  dfVisits.loc[:, col[1]] = dfPlacer[col]\n",
      "C:\\Users\\ZWayne\\AppData\\Local\\Temp\\ipykernel_12564\\1345876020.py:14: PerformanceWarning: DataFrame is highly fragmented.  This is usually the result of calling `frame.insert` many times, which has poor performance.  Consider joining all columns at once using pd.concat(axis=1) instead. To get a de-fragmented frame, use `newframe = frame.copy()`\n",
      "  dfVisits.loc[:, col[1]] = dfPlacer[col]\n",
      "C:\\Users\\ZWayne\\AppData\\Local\\Temp\\ipykernel_12564\\1345876020.py:14: PerformanceWarning: DataFrame is highly fragmented.  This is usually the result of calling `frame.insert` many times, which has poor performance.  Consider joining all columns at once using pd.concat(axis=1) instead. To get a de-fragmented frame, use `newframe = frame.copy()`\n",
      "  dfVisits.loc[:, col[1]] = dfPlacer[col]\n",
      "C:\\Users\\ZWayne\\AppData\\Local\\Temp\\ipykernel_12564\\1345876020.py:14: PerformanceWarning: DataFrame is highly fragmented.  This is usually the result of calling `frame.insert` many times, which has poor performance.  Consider joining all columns at once using pd.concat(axis=1) instead. To get a de-fragmented frame, use `newframe = frame.copy()`\n",
      "  dfVisits.loc[:, col[1]] = dfPlacer[col]\n",
      "C:\\Users\\ZWayne\\AppData\\Local\\Temp\\ipykernel_12564\\1345876020.py:14: PerformanceWarning: DataFrame is highly fragmented.  This is usually the result of calling `frame.insert` many times, which has poor performance.  Consider joining all columns at once using pd.concat(axis=1) instead. To get a de-fragmented frame, use `newframe = frame.copy()`\n",
      "  dfVisits.loc[:, col[1]] = dfPlacer[col]\n",
      "C:\\Users\\ZWayne\\AppData\\Local\\Temp\\ipykernel_12564\\1345876020.py:14: PerformanceWarning: DataFrame is highly fragmented.  This is usually the result of calling `frame.insert` many times, which has poor performance.  Consider joining all columns at once using pd.concat(axis=1) instead. To get a de-fragmented frame, use `newframe = frame.copy()`\n",
      "  dfVisits.loc[:, col[1]] = dfPlacer[col]\n",
      "C:\\Users\\ZWayne\\AppData\\Local\\Temp\\ipykernel_12564\\1345876020.py:14: PerformanceWarning: DataFrame is highly fragmented.  This is usually the result of calling `frame.insert` many times, which has poor performance.  Consider joining all columns at once using pd.concat(axis=1) instead. To get a de-fragmented frame, use `newframe = frame.copy()`\n",
      "  dfVisits.loc[:, col[1]] = dfPlacer[col]\n",
      "C:\\Users\\ZWayne\\AppData\\Local\\Temp\\ipykernel_12564\\1345876020.py:14: PerformanceWarning: DataFrame is highly fragmented.  This is usually the result of calling `frame.insert` many times, which has poor performance.  Consider joining all columns at once using pd.concat(axis=1) instead. To get a de-fragmented frame, use `newframe = frame.copy()`\n",
      "  dfVisits.loc[:, col[1]] = dfPlacer[col]\n",
      "C:\\Users\\ZWayne\\AppData\\Local\\Temp\\ipykernel_12564\\1345876020.py:14: PerformanceWarning: DataFrame is highly fragmented.  This is usually the result of calling `frame.insert` many times, which has poor performance.  Consider joining all columns at once using pd.concat(axis=1) instead. To get a de-fragmented frame, use `newframe = frame.copy()`\n",
      "  dfVisits.loc[:, col[1]] = dfPlacer[col]\n",
      "C:\\Users\\ZWayne\\AppData\\Local\\Temp\\ipykernel_12564\\1345876020.py:14: PerformanceWarning: DataFrame is highly fragmented.  This is usually the result of calling `frame.insert` many times, which has poor performance.  Consider joining all columns at once using pd.concat(axis=1) instead. To get a de-fragmented frame, use `newframe = frame.copy()`\n",
      "  dfVisits.loc[:, col[1]] = dfPlacer[col]\n",
      "C:\\Users\\ZWayne\\AppData\\Local\\Temp\\ipykernel_12564\\1345876020.py:14: PerformanceWarning: DataFrame is highly fragmented.  This is usually the result of calling `frame.insert` many times, which has poor performance.  Consider joining all columns at once using pd.concat(axis=1) instead. To get a de-fragmented frame, use `newframe = frame.copy()`\n",
      "  dfVisits.loc[:, col[1]] = dfPlacer[col]\n",
      "C:\\Users\\ZWayne\\AppData\\Local\\Temp\\ipykernel_12564\\1345876020.py:14: PerformanceWarning: DataFrame is highly fragmented.  This is usually the result of calling `frame.insert` many times, which has poor performance.  Consider joining all columns at once using pd.concat(axis=1) instead. To get a de-fragmented frame, use `newframe = frame.copy()`\n",
      "  dfVisits.loc[:, col[1]] = dfPlacer[col]\n",
      "C:\\Users\\ZWayne\\AppData\\Local\\Temp\\ipykernel_12564\\1345876020.py:14: PerformanceWarning: DataFrame is highly fragmented.  This is usually the result of calling `frame.insert` many times, which has poor performance.  Consider joining all columns at once using pd.concat(axis=1) instead. To get a de-fragmented frame, use `newframe = frame.copy()`\n",
      "  dfVisits.loc[:, col[1]] = dfPlacer[col]\n",
      "C:\\Users\\ZWayne\\AppData\\Local\\Temp\\ipykernel_12564\\1345876020.py:14: PerformanceWarning: DataFrame is highly fragmented.  This is usually the result of calling `frame.insert` many times, which has poor performance.  Consider joining all columns at once using pd.concat(axis=1) instead. To get a de-fragmented frame, use `newframe = frame.copy()`\n",
      "  dfVisits.loc[:, col[1]] = dfPlacer[col]\n",
      "C:\\Users\\ZWayne\\AppData\\Local\\Temp\\ipykernel_12564\\1345876020.py:14: PerformanceWarning: DataFrame is highly fragmented.  This is usually the result of calling `frame.insert` many times, which has poor performance.  Consider joining all columns at once using pd.concat(axis=1) instead. To get a de-fragmented frame, use `newframe = frame.copy()`\n",
      "  dfVisits.loc[:, col[1]] = dfPlacer[col]\n",
      "C:\\Users\\ZWayne\\AppData\\Local\\Temp\\ipykernel_12564\\1345876020.py:14: PerformanceWarning: DataFrame is highly fragmented.  This is usually the result of calling `frame.insert` many times, which has poor performance.  Consider joining all columns at once using pd.concat(axis=1) instead. To get a de-fragmented frame, use `newframe = frame.copy()`\n",
      "  dfVisits.loc[:, col[1]] = dfPlacer[col]\n",
      "C:\\Users\\ZWayne\\AppData\\Local\\Temp\\ipykernel_12564\\1345876020.py:14: PerformanceWarning: DataFrame is highly fragmented.  This is usually the result of calling `frame.insert` many times, which has poor performance.  Consider joining all columns at once using pd.concat(axis=1) instead. To get a de-fragmented frame, use `newframe = frame.copy()`\n",
      "  dfVisits.loc[:, col[1]] = dfPlacer[col]\n",
      "C:\\Users\\ZWayne\\AppData\\Local\\Temp\\ipykernel_12564\\1345876020.py:14: PerformanceWarning: DataFrame is highly fragmented.  This is usually the result of calling `frame.insert` many times, which has poor performance.  Consider joining all columns at once using pd.concat(axis=1) instead. To get a de-fragmented frame, use `newframe = frame.copy()`\n",
      "  dfVisits.loc[:, col[1]] = dfPlacer[col]\n",
      "C:\\Users\\ZWayne\\AppData\\Local\\Temp\\ipykernel_12564\\1345876020.py:14: PerformanceWarning: DataFrame is highly fragmented.  This is usually the result of calling `frame.insert` many times, which has poor performance.  Consider joining all columns at once using pd.concat(axis=1) instead. To get a de-fragmented frame, use `newframe = frame.copy()`\n",
      "  dfVisits.loc[:, col[1]] = dfPlacer[col]\n",
      "C:\\Users\\ZWayne\\AppData\\Local\\Temp\\ipykernel_12564\\1345876020.py:14: PerformanceWarning: DataFrame is highly fragmented.  This is usually the result of calling `frame.insert` many times, which has poor performance.  Consider joining all columns at once using pd.concat(axis=1) instead. To get a de-fragmented frame, use `newframe = frame.copy()`\n",
      "  dfVisits.loc[:, col[1]] = dfPlacer[col]\n",
      "C:\\Users\\ZWayne\\AppData\\Local\\Temp\\ipykernel_12564\\1345876020.py:14: PerformanceWarning: DataFrame is highly fragmented.  This is usually the result of calling `frame.insert` many times, which has poor performance.  Consider joining all columns at once using pd.concat(axis=1) instead. To get a de-fragmented frame, use `newframe = frame.copy()`\n",
      "  dfVisits.loc[:, col[1]] = dfPlacer[col]\n",
      "C:\\Users\\ZWayne\\AppData\\Local\\Temp\\ipykernel_12564\\1345876020.py:14: PerformanceWarning: DataFrame is highly fragmented.  This is usually the result of calling `frame.insert` many times, which has poor performance.  Consider joining all columns at once using pd.concat(axis=1) instead. To get a de-fragmented frame, use `newframe = frame.copy()`\n",
      "  dfVisits.loc[:, col[1]] = dfPlacer[col]\n",
      "C:\\Users\\ZWayne\\AppData\\Local\\Temp\\ipykernel_12564\\1345876020.py:14: PerformanceWarning: DataFrame is highly fragmented.  This is usually the result of calling `frame.insert` many times, which has poor performance.  Consider joining all columns at once using pd.concat(axis=1) instead. To get a de-fragmented frame, use `newframe = frame.copy()`\n",
      "  dfVisits.loc[:, col[1]] = dfPlacer[col]\n",
      "C:\\Users\\ZWayne\\AppData\\Local\\Temp\\ipykernel_12564\\1345876020.py:14: PerformanceWarning: DataFrame is highly fragmented.  This is usually the result of calling `frame.insert` many times, which has poor performance.  Consider joining all columns at once using pd.concat(axis=1) instead. To get a de-fragmented frame, use `newframe = frame.copy()`\n",
      "  dfVisits.loc[:, col[1]] = dfPlacer[col]\n",
      "C:\\Users\\ZWayne\\AppData\\Local\\Temp\\ipykernel_12564\\1345876020.py:14: PerformanceWarning: DataFrame is highly fragmented.  This is usually the result of calling `frame.insert` many times, which has poor performance.  Consider joining all columns at once using pd.concat(axis=1) instead. To get a de-fragmented frame, use `newframe = frame.copy()`\n",
      "  dfVisits.loc[:, col[1]] = dfPlacer[col]\n",
      "C:\\Users\\ZWayne\\AppData\\Local\\Temp\\ipykernel_12564\\1345876020.py:14: PerformanceWarning: DataFrame is highly fragmented.  This is usually the result of calling `frame.insert` many times, which has poor performance.  Consider joining all columns at once using pd.concat(axis=1) instead. To get a de-fragmented frame, use `newframe = frame.copy()`\n",
      "  dfVisits.loc[:, col[1]] = dfPlacer[col]\n",
      "C:\\Users\\ZWayne\\AppData\\Local\\Temp\\ipykernel_12564\\1345876020.py:14: PerformanceWarning: DataFrame is highly fragmented.  This is usually the result of calling `frame.insert` many times, which has poor performance.  Consider joining all columns at once using pd.concat(axis=1) instead. To get a de-fragmented frame, use `newframe = frame.copy()`\n",
      "  dfVisits.loc[:, col[1]] = dfPlacer[col]\n",
      "C:\\Users\\ZWayne\\AppData\\Local\\Temp\\ipykernel_12564\\1345876020.py:14: PerformanceWarning: DataFrame is highly fragmented.  This is usually the result of calling `frame.insert` many times, which has poor performance.  Consider joining all columns at once using pd.concat(axis=1) instead. To get a de-fragmented frame, use `newframe = frame.copy()`\n",
      "  dfVisits.loc[:, col[1]] = dfPlacer[col]\n",
      "C:\\Users\\ZWayne\\AppData\\Local\\Temp\\ipykernel_12564\\1345876020.py:14: PerformanceWarning: DataFrame is highly fragmented.  This is usually the result of calling `frame.insert` many times, which has poor performance.  Consider joining all columns at once using pd.concat(axis=1) instead. To get a de-fragmented frame, use `newframe = frame.copy()`\n",
      "  dfVisits.loc[:, col[1]] = dfPlacer[col]\n",
      "C:\\Users\\ZWayne\\AppData\\Local\\Temp\\ipykernel_12564\\1345876020.py:14: PerformanceWarning: DataFrame is highly fragmented.  This is usually the result of calling `frame.insert` many times, which has poor performance.  Consider joining all columns at once using pd.concat(axis=1) instead. To get a de-fragmented frame, use `newframe = frame.copy()`\n",
      "  dfVisits.loc[:, col[1]] = dfPlacer[col]\n",
      "C:\\Users\\ZWayne\\AppData\\Local\\Temp\\ipykernel_12564\\1345876020.py:14: PerformanceWarning: DataFrame is highly fragmented.  This is usually the result of calling `frame.insert` many times, which has poor performance.  Consider joining all columns at once using pd.concat(axis=1) instead. To get a de-fragmented frame, use `newframe = frame.copy()`\n",
      "  dfVisits.loc[:, col[1]] = dfPlacer[col]\n",
      "C:\\Users\\ZWayne\\AppData\\Local\\Temp\\ipykernel_12564\\1345876020.py:14: PerformanceWarning: DataFrame is highly fragmented.  This is usually the result of calling `frame.insert` many times, which has poor performance.  Consider joining all columns at once using pd.concat(axis=1) instead. To get a de-fragmented frame, use `newframe = frame.copy()`\n",
      "  dfVisits.loc[:, col[1]] = dfPlacer[col]\n",
      "C:\\Users\\ZWayne\\AppData\\Local\\Temp\\ipykernel_12564\\1345876020.py:14: PerformanceWarning: DataFrame is highly fragmented.  This is usually the result of calling `frame.insert` many times, which has poor performance.  Consider joining all columns at once using pd.concat(axis=1) instead. To get a de-fragmented frame, use `newframe = frame.copy()`\n",
      "  dfVisits.loc[:, col[1]] = dfPlacer[col]\n",
      "C:\\Users\\ZWayne\\AppData\\Local\\Temp\\ipykernel_12564\\1345876020.py:14: PerformanceWarning: DataFrame is highly fragmented.  This is usually the result of calling `frame.insert` many times, which has poor performance.  Consider joining all columns at once using pd.concat(axis=1) instead. To get a de-fragmented frame, use `newframe = frame.copy()`\n",
      "  dfVisits.loc[:, col[1]] = dfPlacer[col]\n",
      "C:\\Users\\ZWayne\\AppData\\Local\\Temp\\ipykernel_12564\\1345876020.py:14: PerformanceWarning: DataFrame is highly fragmented.  This is usually the result of calling `frame.insert` many times, which has poor performance.  Consider joining all columns at once using pd.concat(axis=1) instead. To get a de-fragmented frame, use `newframe = frame.copy()`\n",
      "  dfVisits.loc[:, col[1]] = dfPlacer[col]\n",
      "C:\\Users\\ZWayne\\AppData\\Local\\Temp\\ipykernel_12564\\1345876020.py:14: PerformanceWarning: DataFrame is highly fragmented.  This is usually the result of calling `frame.insert` many times, which has poor performance.  Consider joining all columns at once using pd.concat(axis=1) instead. To get a de-fragmented frame, use `newframe = frame.copy()`\n",
      "  dfVisits.loc[:, col[1]] = dfPlacer[col]\n",
      "C:\\Users\\ZWayne\\AppData\\Local\\Temp\\ipykernel_12564\\1345876020.py:14: PerformanceWarning: DataFrame is highly fragmented.  This is usually the result of calling `frame.insert` many times, which has poor performance.  Consider joining all columns at once using pd.concat(axis=1) instead. To get a de-fragmented frame, use `newframe = frame.copy()`\n",
      "  dfVisits.loc[:, col[1]] = dfPlacer[col]\n",
      "C:\\Users\\ZWayne\\AppData\\Local\\Temp\\ipykernel_12564\\1345876020.py:14: PerformanceWarning: DataFrame is highly fragmented.  This is usually the result of calling `frame.insert` many times, which has poor performance.  Consider joining all columns at once using pd.concat(axis=1) instead. To get a de-fragmented frame, use `newframe = frame.copy()`\n",
      "  dfVisits.loc[:, col[1]] = dfPlacer[col]\n",
      "C:\\Users\\ZWayne\\AppData\\Local\\Temp\\ipykernel_12564\\1345876020.py:14: PerformanceWarning: DataFrame is highly fragmented.  This is usually the result of calling `frame.insert` many times, which has poor performance.  Consider joining all columns at once using pd.concat(axis=1) instead. To get a de-fragmented frame, use `newframe = frame.copy()`\n",
      "  dfVisits.loc[:, col[1]] = dfPlacer[col]\n",
      "C:\\Users\\ZWayne\\AppData\\Local\\Temp\\ipykernel_12564\\1345876020.py:14: PerformanceWarning: DataFrame is highly fragmented.  This is usually the result of calling `frame.insert` many times, which has poor performance.  Consider joining all columns at once using pd.concat(axis=1) instead. To get a de-fragmented frame, use `newframe = frame.copy()`\n",
      "  dfVisits.loc[:, col[1]] = dfPlacer[col]\n",
      "C:\\Users\\ZWayne\\AppData\\Local\\Temp\\ipykernel_12564\\1345876020.py:14: PerformanceWarning: DataFrame is highly fragmented.  This is usually the result of calling `frame.insert` many times, which has poor performance.  Consider joining all columns at once using pd.concat(axis=1) instead. To get a de-fragmented frame, use `newframe = frame.copy()`\n",
      "  dfVisits.loc[:, col[1]] = dfPlacer[col]\n",
      "C:\\Users\\ZWayne\\AppData\\Local\\Temp\\ipykernel_12564\\1345876020.py:14: PerformanceWarning: DataFrame is highly fragmented.  This is usually the result of calling `frame.insert` many times, which has poor performance.  Consider joining all columns at once using pd.concat(axis=1) instead. To get a de-fragmented frame, use `newframe = frame.copy()`\n",
      "  dfVisits.loc[:, col[1]] = dfPlacer[col]\n",
      "C:\\Users\\ZWayne\\AppData\\Local\\Temp\\ipykernel_12564\\1345876020.py:14: PerformanceWarning: DataFrame is highly fragmented.  This is usually the result of calling `frame.insert` many times, which has poor performance.  Consider joining all columns at once using pd.concat(axis=1) instead. To get a de-fragmented frame, use `newframe = frame.copy()`\n",
      "  dfVisits.loc[:, col[1]] = dfPlacer[col]\n",
      "C:\\Users\\ZWayne\\AppData\\Local\\Temp\\ipykernel_12564\\1345876020.py:14: PerformanceWarning: DataFrame is highly fragmented.  This is usually the result of calling `frame.insert` many times, which has poor performance.  Consider joining all columns at once using pd.concat(axis=1) instead. To get a de-fragmented frame, use `newframe = frame.copy()`\n",
      "  dfVisits.loc[:, col[1]] = dfPlacer[col]\n",
      "C:\\Users\\ZWayne\\AppData\\Local\\Temp\\ipykernel_12564\\1345876020.py:14: PerformanceWarning: DataFrame is highly fragmented.  This is usually the result of calling `frame.insert` many times, which has poor performance.  Consider joining all columns at once using pd.concat(axis=1) instead. To get a de-fragmented frame, use `newframe = frame.copy()`\n",
      "  dfVisits.loc[:, col[1]] = dfPlacer[col]\n",
      "C:\\Users\\ZWayne\\AppData\\Local\\Temp\\ipykernel_12564\\1345876020.py:14: PerformanceWarning: DataFrame is highly fragmented.  This is usually the result of calling `frame.insert` many times, which has poor performance.  Consider joining all columns at once using pd.concat(axis=1) instead. To get a de-fragmented frame, use `newframe = frame.copy()`\n",
      "  dfVisits.loc[:, col[1]] = dfPlacer[col]\n",
      "C:\\Users\\ZWayne\\AppData\\Local\\Temp\\ipykernel_12564\\1345876020.py:14: PerformanceWarning: DataFrame is highly fragmented.  This is usually the result of calling `frame.insert` many times, which has poor performance.  Consider joining all columns at once using pd.concat(axis=1) instead. To get a de-fragmented frame, use `newframe = frame.copy()`\n",
      "  dfVisits.loc[:, col[1]] = dfPlacer[col]\n",
      "C:\\Users\\ZWayne\\AppData\\Local\\Temp\\ipykernel_12564\\1345876020.py:14: PerformanceWarning: DataFrame is highly fragmented.  This is usually the result of calling `frame.insert` many times, which has poor performance.  Consider joining all columns at once using pd.concat(axis=1) instead. To get a de-fragmented frame, use `newframe = frame.copy()`\n",
      "  dfVisits.loc[:, col[1]] = dfPlacer[col]\n",
      "C:\\Users\\ZWayne\\AppData\\Local\\Temp\\ipykernel_12564\\1345876020.py:14: PerformanceWarning: DataFrame is highly fragmented.  This is usually the result of calling `frame.insert` many times, which has poor performance.  Consider joining all columns at once using pd.concat(axis=1) instead. To get a de-fragmented frame, use `newframe = frame.copy()`\n",
      "  dfVisits.loc[:, col[1]] = dfPlacer[col]\n",
      "C:\\Users\\ZWayne\\AppData\\Local\\Temp\\ipykernel_12564\\1345876020.py:14: PerformanceWarning: DataFrame is highly fragmented.  This is usually the result of calling `frame.insert` many times, which has poor performance.  Consider joining all columns at once using pd.concat(axis=1) instead. To get a de-fragmented frame, use `newframe = frame.copy()`\n",
      "  dfVisits.loc[:, col[1]] = dfPlacer[col]\n",
      "C:\\Users\\ZWayne\\AppData\\Local\\Temp\\ipykernel_12564\\1345876020.py:14: PerformanceWarning: DataFrame is highly fragmented.  This is usually the result of calling `frame.insert` many times, which has poor performance.  Consider joining all columns at once using pd.concat(axis=1) instead. To get a de-fragmented frame, use `newframe = frame.copy()`\n",
      "  dfVisits.loc[:, col[1]] = dfPlacer[col]\n",
      "C:\\Users\\ZWayne\\AppData\\Local\\Temp\\ipykernel_12564\\1345876020.py:14: PerformanceWarning: DataFrame is highly fragmented.  This is usually the result of calling `frame.insert` many times, which has poor performance.  Consider joining all columns at once using pd.concat(axis=1) instead. To get a de-fragmented frame, use `newframe = frame.copy()`\n",
      "  dfVisits.loc[:, col[1]] = dfPlacer[col]\n",
      "C:\\Users\\ZWayne\\AppData\\Local\\Temp\\ipykernel_12564\\1345876020.py:16: PerformanceWarning: DataFrame is highly fragmented.  This is usually the result of calling `frame.insert` many times, which has poor performance.  Consider joining all columns at once using pd.concat(axis=1) instead. To get a de-fragmented frame, use `newframe = frame.copy()`\n",
      "  dfPanelVisits.loc[:, col[1]] = dfPlacer[col]\n",
      "C:\\Users\\ZWayne\\AppData\\Local\\Temp\\ipykernel_12564\\1345876020.py:16: PerformanceWarning: DataFrame is highly fragmented.  This is usually the result of calling `frame.insert` many times, which has poor performance.  Consider joining all columns at once using pd.concat(axis=1) instead. To get a de-fragmented frame, use `newframe = frame.copy()`\n",
      "  dfPanelVisits.loc[:, col[1]] = dfPlacer[col]\n",
      "C:\\Users\\ZWayne\\AppData\\Local\\Temp\\ipykernel_12564\\1345876020.py:16: PerformanceWarning: DataFrame is highly fragmented.  This is usually the result of calling `frame.insert` many times, which has poor performance.  Consider joining all columns at once using pd.concat(axis=1) instead. To get a de-fragmented frame, use `newframe = frame.copy()`\n",
      "  dfPanelVisits.loc[:, col[1]] = dfPlacer[col]\n",
      "C:\\Users\\ZWayne\\AppData\\Local\\Temp\\ipykernel_12564\\1345876020.py:16: PerformanceWarning: DataFrame is highly fragmented.  This is usually the result of calling `frame.insert` many times, which has poor performance.  Consider joining all columns at once using pd.concat(axis=1) instead. To get a de-fragmented frame, use `newframe = frame.copy()`\n",
      "  dfPanelVisits.loc[:, col[1]] = dfPlacer[col]\n",
      "C:\\Users\\ZWayne\\AppData\\Local\\Temp\\ipykernel_12564\\1345876020.py:16: PerformanceWarning: DataFrame is highly fragmented.  This is usually the result of calling `frame.insert` many times, which has poor performance.  Consider joining all columns at once using pd.concat(axis=1) instead. To get a de-fragmented frame, use `newframe = frame.copy()`\n",
      "  dfPanelVisits.loc[:, col[1]] = dfPlacer[col]\n",
      "C:\\Users\\ZWayne\\AppData\\Local\\Temp\\ipykernel_12564\\1345876020.py:16: PerformanceWarning: DataFrame is highly fragmented.  This is usually the result of calling `frame.insert` many times, which has poor performance.  Consider joining all columns at once using pd.concat(axis=1) instead. To get a de-fragmented frame, use `newframe = frame.copy()`\n",
      "  dfPanelVisits.loc[:, col[1]] = dfPlacer[col]\n",
      "C:\\Users\\ZWayne\\AppData\\Local\\Temp\\ipykernel_12564\\1345876020.py:16: PerformanceWarning: DataFrame is highly fragmented.  This is usually the result of calling `frame.insert` many times, which has poor performance.  Consider joining all columns at once using pd.concat(axis=1) instead. To get a de-fragmented frame, use `newframe = frame.copy()`\n",
      "  dfPanelVisits.loc[:, col[1]] = dfPlacer[col]\n",
      "C:\\Users\\ZWayne\\AppData\\Local\\Temp\\ipykernel_12564\\1345876020.py:16: PerformanceWarning: DataFrame is highly fragmented.  This is usually the result of calling `frame.insert` many times, which has poor performance.  Consider joining all columns at once using pd.concat(axis=1) instead. To get a de-fragmented frame, use `newframe = frame.copy()`\n",
      "  dfPanelVisits.loc[:, col[1]] = dfPlacer[col]\n",
      "C:\\Users\\ZWayne\\AppData\\Local\\Temp\\ipykernel_12564\\1345876020.py:16: PerformanceWarning: DataFrame is highly fragmented.  This is usually the result of calling `frame.insert` many times, which has poor performance.  Consider joining all columns at once using pd.concat(axis=1) instead. To get a de-fragmented frame, use `newframe = frame.copy()`\n",
      "  dfPanelVisits.loc[:, col[1]] = dfPlacer[col]\n",
      "C:\\Users\\ZWayne\\AppData\\Local\\Temp\\ipykernel_12564\\1345876020.py:16: PerformanceWarning: DataFrame is highly fragmented.  This is usually the result of calling `frame.insert` many times, which has poor performance.  Consider joining all columns at once using pd.concat(axis=1) instead. To get a de-fragmented frame, use `newframe = frame.copy()`\n",
      "  dfPanelVisits.loc[:, col[1]] = dfPlacer[col]\n",
      "C:\\Users\\ZWayne\\AppData\\Local\\Temp\\ipykernel_12564\\1345876020.py:16: PerformanceWarning: DataFrame is highly fragmented.  This is usually the result of calling `frame.insert` many times, which has poor performance.  Consider joining all columns at once using pd.concat(axis=1) instead. To get a de-fragmented frame, use `newframe = frame.copy()`\n",
      "  dfPanelVisits.loc[:, col[1]] = dfPlacer[col]\n",
      "C:\\Users\\ZWayne\\AppData\\Local\\Temp\\ipykernel_12564\\1345876020.py:16: PerformanceWarning: DataFrame is highly fragmented.  This is usually the result of calling `frame.insert` many times, which has poor performance.  Consider joining all columns at once using pd.concat(axis=1) instead. To get a de-fragmented frame, use `newframe = frame.copy()`\n",
      "  dfPanelVisits.loc[:, col[1]] = dfPlacer[col]\n",
      "C:\\Users\\ZWayne\\AppData\\Local\\Temp\\ipykernel_12564\\1345876020.py:16: PerformanceWarning: DataFrame is highly fragmented.  This is usually the result of calling `frame.insert` many times, which has poor performance.  Consider joining all columns at once using pd.concat(axis=1) instead. To get a de-fragmented frame, use `newframe = frame.copy()`\n",
      "  dfPanelVisits.loc[:, col[1]] = dfPlacer[col]\n",
      "C:\\Users\\ZWayne\\AppData\\Local\\Temp\\ipykernel_12564\\1345876020.py:16: PerformanceWarning: DataFrame is highly fragmented.  This is usually the result of calling `frame.insert` many times, which has poor performance.  Consider joining all columns at once using pd.concat(axis=1) instead. To get a de-fragmented frame, use `newframe = frame.copy()`\n",
      "  dfPanelVisits.loc[:, col[1]] = dfPlacer[col]\n",
      "C:\\Users\\ZWayne\\AppData\\Local\\Temp\\ipykernel_12564\\1345876020.py:16: PerformanceWarning: DataFrame is highly fragmented.  This is usually the result of calling `frame.insert` many times, which has poor performance.  Consider joining all columns at once using pd.concat(axis=1) instead. To get a de-fragmented frame, use `newframe = frame.copy()`\n",
      "  dfPanelVisits.loc[:, col[1]] = dfPlacer[col]\n",
      "C:\\Users\\ZWayne\\AppData\\Local\\Temp\\ipykernel_12564\\1345876020.py:16: PerformanceWarning: DataFrame is highly fragmented.  This is usually the result of calling `frame.insert` many times, which has poor performance.  Consider joining all columns at once using pd.concat(axis=1) instead. To get a de-fragmented frame, use `newframe = frame.copy()`\n",
      "  dfPanelVisits.loc[:, col[1]] = dfPlacer[col]\n",
      "C:\\Users\\ZWayne\\AppData\\Local\\Temp\\ipykernel_12564\\1345876020.py:16: PerformanceWarning: DataFrame is highly fragmented.  This is usually the result of calling `frame.insert` many times, which has poor performance.  Consider joining all columns at once using pd.concat(axis=1) instead. To get a de-fragmented frame, use `newframe = frame.copy()`\n",
      "  dfPanelVisits.loc[:, col[1]] = dfPlacer[col]\n",
      "C:\\Users\\ZWayne\\AppData\\Local\\Temp\\ipykernel_12564\\1345876020.py:16: PerformanceWarning: DataFrame is highly fragmented.  This is usually the result of calling `frame.insert` many times, which has poor performance.  Consider joining all columns at once using pd.concat(axis=1) instead. To get a de-fragmented frame, use `newframe = frame.copy()`\n",
      "  dfPanelVisits.loc[:, col[1]] = dfPlacer[col]\n",
      "C:\\Users\\ZWayne\\AppData\\Local\\Temp\\ipykernel_12564\\1345876020.py:16: PerformanceWarning: DataFrame is highly fragmented.  This is usually the result of calling `frame.insert` many times, which has poor performance.  Consider joining all columns at once using pd.concat(axis=1) instead. To get a de-fragmented frame, use `newframe = frame.copy()`\n",
      "  dfPanelVisits.loc[:, col[1]] = dfPlacer[col]\n",
      "C:\\Users\\ZWayne\\AppData\\Local\\Temp\\ipykernel_12564\\1345876020.py:16: PerformanceWarning: DataFrame is highly fragmented.  This is usually the result of calling `frame.insert` many times, which has poor performance.  Consider joining all columns at once using pd.concat(axis=1) instead. To get a de-fragmented frame, use `newframe = frame.copy()`\n",
      "  dfPanelVisits.loc[:, col[1]] = dfPlacer[col]\n",
      "C:\\Users\\ZWayne\\AppData\\Local\\Temp\\ipykernel_12564\\1345876020.py:16: PerformanceWarning: DataFrame is highly fragmented.  This is usually the result of calling `frame.insert` many times, which has poor performance.  Consider joining all columns at once using pd.concat(axis=1) instead. To get a de-fragmented frame, use `newframe = frame.copy()`\n",
      "  dfPanelVisits.loc[:, col[1]] = dfPlacer[col]\n",
      "C:\\Users\\ZWayne\\AppData\\Local\\Temp\\ipykernel_12564\\1345876020.py:16: PerformanceWarning: DataFrame is highly fragmented.  This is usually the result of calling `frame.insert` many times, which has poor performance.  Consider joining all columns at once using pd.concat(axis=1) instead. To get a de-fragmented frame, use `newframe = frame.copy()`\n",
      "  dfPanelVisits.loc[:, col[1]] = dfPlacer[col]\n",
      "C:\\Users\\ZWayne\\AppData\\Local\\Temp\\ipykernel_12564\\1345876020.py:16: PerformanceWarning: DataFrame is highly fragmented.  This is usually the result of calling `frame.insert` many times, which has poor performance.  Consider joining all columns at once using pd.concat(axis=1) instead. To get a de-fragmented frame, use `newframe = frame.copy()`\n",
      "  dfPanelVisits.loc[:, col[1]] = dfPlacer[col]\n",
      "C:\\Users\\ZWayne\\AppData\\Local\\Temp\\ipykernel_12564\\1345876020.py:16: PerformanceWarning: DataFrame is highly fragmented.  This is usually the result of calling `frame.insert` many times, which has poor performance.  Consider joining all columns at once using pd.concat(axis=1) instead. To get a de-fragmented frame, use `newframe = frame.copy()`\n",
      "  dfPanelVisits.loc[:, col[1]] = dfPlacer[col]\n",
      "C:\\Users\\ZWayne\\AppData\\Local\\Temp\\ipykernel_12564\\1345876020.py:16: PerformanceWarning: DataFrame is highly fragmented.  This is usually the result of calling `frame.insert` many times, which has poor performance.  Consider joining all columns at once using pd.concat(axis=1) instead. To get a de-fragmented frame, use `newframe = frame.copy()`\n",
      "  dfPanelVisits.loc[:, col[1]] = dfPlacer[col]\n",
      "C:\\Users\\ZWayne\\AppData\\Local\\Temp\\ipykernel_12564\\1345876020.py:16: PerformanceWarning: DataFrame is highly fragmented.  This is usually the result of calling `frame.insert` many times, which has poor performance.  Consider joining all columns at once using pd.concat(axis=1) instead. To get a de-fragmented frame, use `newframe = frame.copy()`\n",
      "  dfPanelVisits.loc[:, col[1]] = dfPlacer[col]\n",
      "C:\\Users\\ZWayne\\AppData\\Local\\Temp\\ipykernel_12564\\1345876020.py:16: PerformanceWarning: DataFrame is highly fragmented.  This is usually the result of calling `frame.insert` many times, which has poor performance.  Consider joining all columns at once using pd.concat(axis=1) instead. To get a de-fragmented frame, use `newframe = frame.copy()`\n",
      "  dfPanelVisits.loc[:, col[1]] = dfPlacer[col]\n",
      "C:\\Users\\ZWayne\\AppData\\Local\\Temp\\ipykernel_12564\\1345876020.py:16: PerformanceWarning: DataFrame is highly fragmented.  This is usually the result of calling `frame.insert` many times, which has poor performance.  Consider joining all columns at once using pd.concat(axis=1) instead. To get a de-fragmented frame, use `newframe = frame.copy()`\n",
      "  dfPanelVisits.loc[:, col[1]] = dfPlacer[col]\n",
      "C:\\Users\\ZWayne\\AppData\\Local\\Temp\\ipykernel_12564\\1345876020.py:16: PerformanceWarning: DataFrame is highly fragmented.  This is usually the result of calling `frame.insert` many times, which has poor performance.  Consider joining all columns at once using pd.concat(axis=1) instead. To get a de-fragmented frame, use `newframe = frame.copy()`\n",
      "  dfPanelVisits.loc[:, col[1]] = dfPlacer[col]\n",
      "C:\\Users\\ZWayne\\AppData\\Local\\Temp\\ipykernel_12564\\1345876020.py:16: PerformanceWarning: DataFrame is highly fragmented.  This is usually the result of calling `frame.insert` many times, which has poor performance.  Consider joining all columns at once using pd.concat(axis=1) instead. To get a de-fragmented frame, use `newframe = frame.copy()`\n",
      "  dfPanelVisits.loc[:, col[1]] = dfPlacer[col]\n",
      "C:\\Users\\ZWayne\\AppData\\Local\\Temp\\ipykernel_12564\\1345876020.py:16: PerformanceWarning: DataFrame is highly fragmented.  This is usually the result of calling `frame.insert` many times, which has poor performance.  Consider joining all columns at once using pd.concat(axis=1) instead. To get a de-fragmented frame, use `newframe = frame.copy()`\n",
      "  dfPanelVisits.loc[:, col[1]] = dfPlacer[col]\n",
      "C:\\Users\\ZWayne\\AppData\\Local\\Temp\\ipykernel_12564\\1345876020.py:16: PerformanceWarning: DataFrame is highly fragmented.  This is usually the result of calling `frame.insert` many times, which has poor performance.  Consider joining all columns at once using pd.concat(axis=1) instead. To get a de-fragmented frame, use `newframe = frame.copy()`\n",
      "  dfPanelVisits.loc[:, col[1]] = dfPlacer[col]\n",
      "C:\\Users\\ZWayne\\AppData\\Local\\Temp\\ipykernel_12564\\1345876020.py:16: PerformanceWarning: DataFrame is highly fragmented.  This is usually the result of calling `frame.insert` many times, which has poor performance.  Consider joining all columns at once using pd.concat(axis=1) instead. To get a de-fragmented frame, use `newframe = frame.copy()`\n",
      "  dfPanelVisits.loc[:, col[1]] = dfPlacer[col]\n",
      "C:\\Users\\ZWayne\\AppData\\Local\\Temp\\ipykernel_12564\\1345876020.py:16: PerformanceWarning: DataFrame is highly fragmented.  This is usually the result of calling `frame.insert` many times, which has poor performance.  Consider joining all columns at once using pd.concat(axis=1) instead. To get a de-fragmented frame, use `newframe = frame.copy()`\n",
      "  dfPanelVisits.loc[:, col[1]] = dfPlacer[col]\n",
      "C:\\Users\\ZWayne\\AppData\\Local\\Temp\\ipykernel_12564\\1345876020.py:16: PerformanceWarning: DataFrame is highly fragmented.  This is usually the result of calling `frame.insert` many times, which has poor performance.  Consider joining all columns at once using pd.concat(axis=1) instead. To get a de-fragmented frame, use `newframe = frame.copy()`\n",
      "  dfPanelVisits.loc[:, col[1]] = dfPlacer[col]\n",
      "C:\\Users\\ZWayne\\AppData\\Local\\Temp\\ipykernel_12564\\1345876020.py:16: PerformanceWarning: DataFrame is highly fragmented.  This is usually the result of calling `frame.insert` many times, which has poor performance.  Consider joining all columns at once using pd.concat(axis=1) instead. To get a de-fragmented frame, use `newframe = frame.copy()`\n",
      "  dfPanelVisits.loc[:, col[1]] = dfPlacer[col]\n",
      "C:\\Users\\ZWayne\\AppData\\Local\\Temp\\ipykernel_12564\\1345876020.py:16: PerformanceWarning: DataFrame is highly fragmented.  This is usually the result of calling `frame.insert` many times, which has poor performance.  Consider joining all columns at once using pd.concat(axis=1) instead. To get a de-fragmented frame, use `newframe = frame.copy()`\n",
      "  dfPanelVisits.loc[:, col[1]] = dfPlacer[col]\n",
      "C:\\Users\\ZWayne\\AppData\\Local\\Temp\\ipykernel_12564\\1345876020.py:16: PerformanceWarning: DataFrame is highly fragmented.  This is usually the result of calling `frame.insert` many times, which has poor performance.  Consider joining all columns at once using pd.concat(axis=1) instead. To get a de-fragmented frame, use `newframe = frame.copy()`\n",
      "  dfPanelVisits.loc[:, col[1]] = dfPlacer[col]\n",
      "C:\\Users\\ZWayne\\AppData\\Local\\Temp\\ipykernel_12564\\1345876020.py:16: PerformanceWarning: DataFrame is highly fragmented.  This is usually the result of calling `frame.insert` many times, which has poor performance.  Consider joining all columns at once using pd.concat(axis=1) instead. To get a de-fragmented frame, use `newframe = frame.copy()`\n",
      "  dfPanelVisits.loc[:, col[1]] = dfPlacer[col]\n",
      "C:\\Users\\ZWayne\\AppData\\Local\\Temp\\ipykernel_12564\\1345876020.py:16: PerformanceWarning: DataFrame is highly fragmented.  This is usually the result of calling `frame.insert` many times, which has poor performance.  Consider joining all columns at once using pd.concat(axis=1) instead. To get a de-fragmented frame, use `newframe = frame.copy()`\n",
      "  dfPanelVisits.loc[:, col[1]] = dfPlacer[col]\n",
      "C:\\Users\\ZWayne\\AppData\\Local\\Temp\\ipykernel_12564\\1345876020.py:16: PerformanceWarning: DataFrame is highly fragmented.  This is usually the result of calling `frame.insert` many times, which has poor performance.  Consider joining all columns at once using pd.concat(axis=1) instead. To get a de-fragmented frame, use `newframe = frame.copy()`\n",
      "  dfPanelVisits.loc[:, col[1]] = dfPlacer[col]\n",
      "C:\\Users\\ZWayne\\AppData\\Local\\Temp\\ipykernel_12564\\1345876020.py:16: PerformanceWarning: DataFrame is highly fragmented.  This is usually the result of calling `frame.insert` many times, which has poor performance.  Consider joining all columns at once using pd.concat(axis=1) instead. To get a de-fragmented frame, use `newframe = frame.copy()`\n",
      "  dfPanelVisits.loc[:, col[1]] = dfPlacer[col]\n",
      "C:\\Users\\ZWayne\\AppData\\Local\\Temp\\ipykernel_12564\\1345876020.py:16: PerformanceWarning: DataFrame is highly fragmented.  This is usually the result of calling `frame.insert` many times, which has poor performance.  Consider joining all columns at once using pd.concat(axis=1) instead. To get a de-fragmented frame, use `newframe = frame.copy()`\n",
      "  dfPanelVisits.loc[:, col[1]] = dfPlacer[col]\n",
      "C:\\Users\\ZWayne\\AppData\\Local\\Temp\\ipykernel_12564\\1345876020.py:16: PerformanceWarning: DataFrame is highly fragmented.  This is usually the result of calling `frame.insert` many times, which has poor performance.  Consider joining all columns at once using pd.concat(axis=1) instead. To get a de-fragmented frame, use `newframe = frame.copy()`\n",
      "  dfPanelVisits.loc[:, col[1]] = dfPlacer[col]\n",
      "C:\\Users\\ZWayne\\AppData\\Local\\Temp\\ipykernel_12564\\1345876020.py:16: PerformanceWarning: DataFrame is highly fragmented.  This is usually the result of calling `frame.insert` many times, which has poor performance.  Consider joining all columns at once using pd.concat(axis=1) instead. To get a de-fragmented frame, use `newframe = frame.copy()`\n",
      "  dfPanelVisits.loc[:, col[1]] = dfPlacer[col]\n",
      "C:\\Users\\ZWayne\\AppData\\Local\\Temp\\ipykernel_12564\\1345876020.py:16: PerformanceWarning: DataFrame is highly fragmented.  This is usually the result of calling `frame.insert` many times, which has poor performance.  Consider joining all columns at once using pd.concat(axis=1) instead. To get a de-fragmented frame, use `newframe = frame.copy()`\n",
      "  dfPanelVisits.loc[:, col[1]] = dfPlacer[col]\n",
      "C:\\Users\\ZWayne\\AppData\\Local\\Temp\\ipykernel_12564\\1345876020.py:16: PerformanceWarning: DataFrame is highly fragmented.  This is usually the result of calling `frame.insert` many times, which has poor performance.  Consider joining all columns at once using pd.concat(axis=1) instead. To get a de-fragmented frame, use `newframe = frame.copy()`\n",
      "  dfPanelVisits.loc[:, col[1]] = dfPlacer[col]\n",
      "C:\\Users\\ZWayne\\AppData\\Local\\Temp\\ipykernel_12564\\1345876020.py:16: PerformanceWarning: DataFrame is highly fragmented.  This is usually the result of calling `frame.insert` many times, which has poor performance.  Consider joining all columns at once using pd.concat(axis=1) instead. To get a de-fragmented frame, use `newframe = frame.copy()`\n",
      "  dfPanelVisits.loc[:, col[1]] = dfPlacer[col]\n",
      "C:\\Users\\ZWayne\\AppData\\Local\\Temp\\ipykernel_12564\\1345876020.py:16: PerformanceWarning: DataFrame is highly fragmented.  This is usually the result of calling `frame.insert` many times, which has poor performance.  Consider joining all columns at once using pd.concat(axis=1) instead. To get a de-fragmented frame, use `newframe = frame.copy()`\n",
      "  dfPanelVisits.loc[:, col[1]] = dfPlacer[col]\n",
      "C:\\Users\\ZWayne\\AppData\\Local\\Temp\\ipykernel_12564\\1345876020.py:16: PerformanceWarning: DataFrame is highly fragmented.  This is usually the result of calling `frame.insert` many times, which has poor performance.  Consider joining all columns at once using pd.concat(axis=1) instead. To get a de-fragmented frame, use `newframe = frame.copy()`\n",
      "  dfPanelVisits.loc[:, col[1]] = dfPlacer[col]\n",
      "C:\\Users\\ZWayne\\AppData\\Local\\Temp\\ipykernel_12564\\1345876020.py:16: PerformanceWarning: DataFrame is highly fragmented.  This is usually the result of calling `frame.insert` many times, which has poor performance.  Consider joining all columns at once using pd.concat(axis=1) instead. To get a de-fragmented frame, use `newframe = frame.copy()`\n",
      "  dfPanelVisits.loc[:, col[1]] = dfPlacer[col]\n",
      "C:\\Users\\ZWayne\\AppData\\Local\\Temp\\ipykernel_12564\\1345876020.py:16: PerformanceWarning: DataFrame is highly fragmented.  This is usually the result of calling `frame.insert` many times, which has poor performance.  Consider joining all columns at once using pd.concat(axis=1) instead. To get a de-fragmented frame, use `newframe = frame.copy()`\n",
      "  dfPanelVisits.loc[:, col[1]] = dfPlacer[col]\n",
      "C:\\Users\\ZWayne\\AppData\\Local\\Temp\\ipykernel_12564\\1345876020.py:16: PerformanceWarning: DataFrame is highly fragmented.  This is usually the result of calling `frame.insert` many times, which has poor performance.  Consider joining all columns at once using pd.concat(axis=1) instead. To get a de-fragmented frame, use `newframe = frame.copy()`\n",
      "  dfPanelVisits.loc[:, col[1]] = dfPlacer[col]\n",
      "C:\\Users\\ZWayne\\AppData\\Local\\Temp\\ipykernel_12564\\1345876020.py:16: PerformanceWarning: DataFrame is highly fragmented.  This is usually the result of calling `frame.insert` many times, which has poor performance.  Consider joining all columns at once using pd.concat(axis=1) instead. To get a de-fragmented frame, use `newframe = frame.copy()`\n",
      "  dfPanelVisits.loc[:, col[1]] = dfPlacer[col]\n",
      "C:\\Users\\ZWayne\\AppData\\Local\\Temp\\ipykernel_12564\\1345876020.py:16: PerformanceWarning: DataFrame is highly fragmented.  This is usually the result of calling `frame.insert` many times, which has poor performance.  Consider joining all columns at once using pd.concat(axis=1) instead. To get a de-fragmented frame, use `newframe = frame.copy()`\n",
      "  dfPanelVisits.loc[:, col[1]] = dfPlacer[col]\n",
      "C:\\Users\\ZWayne\\AppData\\Local\\Temp\\ipykernel_12564\\1345876020.py:19: PerformanceWarning: DataFrame is highly fragmented.  This is usually the result of calling `frame.insert` many times, which has poor performance.  Consider joining all columns at once using pd.concat(axis=1) instead. To get a de-fragmented frame, use `newframe = frame.copy()`\n",
      "  dfVisits['category'] = dfVisits.index.map(category_mappings)\n",
      "C:\\Users\\ZWayne\\AppData\\Local\\Temp\\ipykernel_12564\\1345876020.py:20: PerformanceWarning: DataFrame is highly fragmented.  This is usually the result of calling `frame.insert` many times, which has poor performance.  Consider joining all columns at once using pd.concat(axis=1) instead. To get a de-fragmented frame, use `newframe = frame.copy()`\n",
      "  dfPanelVisits['category'] = dfPanelVisits.index.map(category_mappings)\n"
     ]
    }
   ],
   "source": [
    "dfPlacer = df.copy()\n",
    "\n",
    "# pivot so dates are columns\n",
    "dfPlacer = dfPlacer.pivot(index='apiId', columns='dates', values=['visits', 'panelVisits'])\n",
    "# replace apiId with chain name\n",
    "dfPlacer.index = dfPlacer.index.map({v: k for k, v in chain_mappings.items()})\n",
    "dfPlacer.index.name = None\n",
    "\n",
    "dfVisits = pd.DataFrame(index=dfPlacer.index)\n",
    "dfPanelVisits = pd.DataFrame(index=dfPlacer.index)\n",
    "# reformatting into visits and panel visits\n",
    "for col in dfPlacer.columns:\n",
    "    if col[0] == 'visits':\n",
    "        dfVisits.loc[:, col[1]] = dfPlacer[col]\n",
    "    else:\n",
    "        dfPanelVisits.loc[:, col[1]] = dfPlacer[col]\n",
    "        \n",
    "# add column for category based on category_mappings\n",
    "dfVisits['category'] = dfVisits.index.map(category_mappings)\n",
    "dfPanelVisits['category'] = dfPanelVisits.index.map(category_mappings)\n",
    "dfNumOrders['category'] = dfNumOrders.index.map(category_mappings)\n",
    "dfTotalRev['category'] = dfTotalRev.index.map(category_mappings)\n",
    "dfAOV['category'] = dfAOV.index.map(category_mappings)\n",
    "\n",
    "# set index to be category and brand\n",
    "dfVisits.set_index('category', append=True, inplace=True)\n",
    "dfPanelVisits.set_index('category', append=True, inplace=True)\n",
    "dfNumOrders.set_index('category', append=True, inplace=True)\n",
    "dfTotalRev.set_index('category', append=True, inplace=True)\n",
    "dfAOV.set_index('category', append=True, inplace=True)\n",
    "\n",
    "# reorder and sort index so first watch is always first, then breakfast, then family dining\n",
    "dfVisits = dfVisits.reorder_levels([1, 0])\n",
    "dfVisits.sort_index(inplace=True)\n",
    "dfVisits = dfVisits.reindex(index=['First Watch', 'Breakfast', 'Family Dining'], level=0)\n",
    "\n",
    "dfPanelVisits = dfPanelVisits.reorder_levels([1, 0])\n",
    "dfPanelVisits.sort_index(inplace=True)\n",
    "dfPanelVisits = dfPanelVisits.reindex(index=['First Watch', 'Breakfast', 'Family Dining'], level=0)\n",
    "\n",
    "dfNumOrders = dfNumOrders.reorder_levels([1, 0])\n",
    "dfNumOrders.sort_index(inplace=True)\n",
    "dfNumOrders = dfNumOrders.reindex(index=['First Watch', 'Breakfast', 'Family Dining'], level=0)\n",
    "\n",
    "dfTotalRev = dfTotalRev.reorder_levels([1, 0])\n",
    "dfTotalRev.sort_index(inplace=True)\n",
    "dfTotalRev = dfTotalRev.reindex(index=['First Watch', 'Breakfast', 'Family Dining'], level=0)\n",
    "\n",
    "dfAOV = dfAOV.reorder_levels([1, 0])\n",
    "dfAOV.sort_index(inplace=True)\n",
    "dfAOV = dfAOV.reindex(index=['First Watch', 'Breakfast', 'Family Dining'], level=0)\n",
    "\n",
    "index = pd.MultiIndex.from_product([['First Watch', 'Breakfast', 'Family Dining'], list(income_mapping.values())[::-1]], names=['Category', 'Income'])\n",
    "dfOrderDemo = dfOrderDemo.reindex(index=index)"
   ]
  },
  {
   "cell_type": "code",
   "execution_count": 40,
   "metadata": {},
   "outputs": [],
   "source": [
    "# take dfTotalRev and make a YoY grown df for the last year of weeks compared to the previous year of weeks\n",
    "dfTotalRevYoY = dfTotalRev.copy()\n",
    "# get the last year of weeks, i added a buffer in case not all weeks are in yet\n",
    "last_year = dfTotalRevYoY.columns[-53:-1]\n",
    "# get the previous year of weeks\n",
    "prev_year = dfTotalRevYoY.columns[-105:-53]\n",
    "# get the YoY growth\n",
    "dfTotalRevYoY = dfTotalRevYoY[last_year].div(dfTotalRevYoY[prev_year].values)\n",
    "dfTotalRevYoY = dfTotalRevYoY - 1\n",
    "dfTotalRevYoY = dfTotalRevYoY \n",
    "dfTotalRevYoY = dfTotalRevYoY.round(2)\n",
    "\n",
    "dfAOVYoY = dfAOV.copy()\n",
    "dfAOVYoY = dfAOVYoY[last_year].div(dfAOVYoY[prev_year].values)\n",
    "dfAOVYoY = dfAOVYoY - 1\n",
    "dfAOVYoY = dfAOVYoY \n",
    "dfAOVYoY = dfAOVYoY.round(2)\n",
    "\n",
    "dfNumOrdersYoY = dfNumOrders.copy()\n",
    "dfNumOrdersYoY = dfNumOrdersYoY[last_year].div(dfNumOrdersYoY[prev_year].values)\n",
    "dfNumOrdersYoY = dfNumOrdersYoY - 1\n",
    "dfNumOrdersYoY = dfNumOrdersYoY\n",
    "dfNumOrdersYoY = dfNumOrdersYoY.round(2)\n",
    "\n",
    "dfOrderDemoYoY = dfOrderDemo.copy()\n",
    "dfOrderDemoYoY = dfOrderDemoYoY[last_year].div(dfOrderDemoYoY[prev_year].values)\n",
    "dfOrderDemoYoY = dfOrderDemoYoY - 1\n",
    "dfOrderDemoYoY = dfOrderDemoYoY\n",
    "dfOrderDemoYoY = dfOrderDemoYoY.round(2)\n",
    "\n",
    "dfVisitsYoY = dfVisits.copy()\n",
    "last_year = dfVisitsYoY.columns[-52:]\n",
    "prev_year = dfVisitsYoY.columns[-104:-52]\n",
    "dfVisitsYoY = dfVisitsYoY[last_year].div(dfVisitsYoY[prev_year].values)\n",
    "dfVisitsYoY = dfVisitsYoY - 1\n",
    "dfVisitsYoY = dfVisitsYoY\n",
    "dfVisitsYoY = dfVisitsYoY.round(2)\n",
    "\n",
    "dfPanelVisitsYoY = dfPanelVisits.copy()\n",
    "dfPanelVisitsYoY = dfPanelVisitsYoY[last_year].div(dfPanelVisitsYoY[prev_year].values)\n",
    "dfPanelVisitsYoY = dfPanelVisitsYoY - 1\n",
    "dfPanelVisitsYoY = dfPanelVisitsYoY \n",
    "dfPanelVisitsYoY = dfPanelVisitsYoY.round(2)"
   ]
  },
  {
   "cell_type": "code",
   "execution_count": 53,
   "metadata": {},
   "outputs": [],
   "source": [
    "# write all dataframes to excel, putting YoY growth below the original data for each sheet\n",
    "with pd.ExcelWriter('output.xlsx') as writer:\n",
    "    dfTotalRev.to_excel(writer, sheet_name='Total Revenue', startrow=0)\n",
    "    dfTotalRevYoY.to_excel(writer, sheet_name='Total Revenue', startrow=dfTotalRev.shape[0] + 2)\n",
    "    writer.sheets['Total Revenue'].freeze_panes(0, 2)\n",
    "    dfAOV.to_excel(writer, sheet_name='AOV', startrow=0)\n",
    "    dfAOVYoY.to_excel(writer, sheet_name='AOV', startrow=dfAOV.shape[0] + 2)\n",
    "    writer.sheets['AOV'].freeze_panes(0, 2)\n",
    "    dfNumOrders.to_excel(writer, sheet_name='Number of Transactions', startrow=0)\n",
    "    dfNumOrdersYoY.to_excel(writer, sheet_name='Number of Transactions', startrow=dfNumOrders.shape[0] + 2)\n",
    "    writer.sheets['Number of Transactions'].freeze_panes(0, 2)\n",
    "    dfVisits.to_excel(writer, sheet_name='Visits', startrow=0)\n",
    "    dfVisitsYoY.to_excel(writer, sheet_name='Visits', startrow=dfVisits.shape[0] + 2)\n",
    "    writer.sheets['Visits'].freeze_panes(0, 2)\n",
    "    # dfPanelVisits.to_excel(writer, sheet_name='Est. Same-Store Visits', startrow=0)\n",
    "    # dfPanelVisitsYoY.to_excel(writer, sheet_name='Est. Same-Store Visits', startrow=dfPanelVisits.shape[0] + 2)\n",
    "    # writer.sheets['Est. Same-Store Visits'].freeze_panes(0, 2)\n",
    "    dfOrderDemo.to_excel(writer, sheet_name='Number of Orders by Income', startrow=0)\n",
    "    dfOrderDemoYoY.to_excel(writer, sheet_name='Number of Orders by Income', startrow=dfOrderDemo.shape[0] + 2)\n",
    "    writer.sheets['Number of Orders by Income'].freeze_panes(0, 2)"
   ]
  },
  {
   "cell_type": "code",
   "execution_count": null,
   "metadata": {},
   "outputs": [],
   "source": []
  }
 ],
 "metadata": {
  "kernelspec": {
   "display_name": "pyvent",
   "language": "python",
   "name": "python3"
  },
  "language_info": {
   "codemirror_mode": {
    "name": "ipython",
    "version": 3
   },
   "file_extension": ".py",
   "mimetype": "text/x-python",
   "name": "python",
   "nbconvert_exporter": "python",
   "pygments_lexer": "ipython3",
   "version": "3.10.14"
  }
 },
 "nbformat": 4,
 "nbformat_minor": 2
}
